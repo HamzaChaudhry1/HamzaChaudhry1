{
 "cells": [
  {
   "cell_type": "code",
   "execution_count": null,
   "id": "23579dbd",
   "metadata": {},
   "outputs": [],
   "source": [
    "### Using JSON files from a API "
   ]
  },
  {
   "cell_type": "code",
   "execution_count": 19,
   "id": "878678f2",
   "metadata": {},
   "outputs": [
    {
     "name": "stdout",
     "output_type": "stream",
     "text": [
      "Retrieving https://data.colorado.gov/resource/4ykn-tg5h.json?principalzipcode=80015&entityformdate=2021-03-12T00%3A00%3A00.000\n",
      "Retrieved 1743 characters\n"
     ]
    }
   ],
   "source": [
    "\n",
    "import urllib.request, urllib.parse, urllib.error\n",
    "import json\n",
    "import datetime\n",
    "# Create the URL to read the Data from\n",
    "earthquakeURL = \"https://data.colorado.gov/resource/4ykn-tg5h.json?\"\n",
    "paramD = dict()\n",
    "paramD[\"principalzipcode\"] = 80015    # Only this zip codde\n",
    "paramD[\"$order\"] = \"entityformdate\"\n",
    "#paramD[\"entityformdate\"] = \"2021-03-12T00:00:00.000\" # formed on this date\n",
    "\n",
    "\n",
    "# Encode prameters then retrieve JSON Data\n",
    "params = urllib.parse.urlencode(paramD)\n",
    "\n",
    "#Open a connection to the external data\n",
    "print('Retrieving', earthquakeURL+params)\n",
    "uh = urllib.request.urlopen(earthquakeURL+params)\n",
    "\n",
    "# Read all of the data returned and put it in the variable data \n",
    "data = uh.read().decode()\n",
    "\n",
    "#Verify that the data was retrieved \n",
    "print('Retrieved', len(data), 'characters')"
   ]
  },
  {
   "cell_type": "code",
   "execution_count": 3,
   "id": "d3622383",
   "metadata": {},
   "outputs": [
    {
     "data": {
      "text/plain": [
       "str"
      ]
     },
     "execution_count": 3,
     "metadata": {},
     "output_type": "execute_result"
    }
   ],
   "source": [
    "type(data)"
   ]
  },
  {
   "cell_type": "code",
   "execution_count": 20,
   "id": "1c8ddc22",
   "metadata": {},
   "outputs": [
    {
     "data": {
      "text/plain": [
       "list"
      ]
     },
     "execution_count": 20,
     "metadata": {},
     "output_type": "execute_result"
    }
   ],
   "source": [
    "# extract the data that is in the json file \n",
    "datajs = json.loads(data)\n",
    "type(datajs)"
   ]
  },
  {
   "cell_type": "code",
   "execution_count": 7,
   "id": "e7636b40",
   "metadata": {},
   "outputs": [
    {
     "name": "stdout",
     "output_type": "stream",
     "text": [
      "{'entityid': '20201234573', 'entityname': 'Wayne Enterprises Inc', 'principaladdress1': '5380 S Parker Road', 'principalcity': 'Aurora', 'principalstate': 'CO', 'principalzipcode': '80015', 'principalcountry': 'US', 'entitystatus': 'Good Standing', 'jurisdictonofformation': 'CO', 'entitytype': 'Corporation', 'agentorganizationname': 'Wayne Enterprises Inc', 'agentprincipaladdress1': '6600 W 20th Street #17', 'agentprincipalcity': 'Greeley', 'agentprincipalstate': 'CO', 'agentprincipalzipcode': '80634', 'agentprincipalcountry': 'US', 'entityformdate': '2020-03-12T00:00:00.000'}\n"
     ]
    }
   ],
   "source": [
    "# What would you do to get the fist thing from the list?\n",
    "print(datajs[0])"
   ]
  },
  {
   "cell_type": "code",
   "execution_count": 26,
   "id": "2110b743",
   "metadata": {},
   "outputs": [
    {
     "name": "stdout",
     "output_type": "stream",
     "text": [
      "STELLAR \"T\" INVESTMENTS  LLC 2021-03-12T00:00:00.000\n"
     ]
    }
   ],
   "source": [
    "# Get the name of the entity above \n",
    "entity1 = datajs[0]\n",
    "print(entity1['entityname'], entity1['entityformdate'])"
   ]
  },
  {
   "cell_type": "code",
   "execution_count": 22,
   "id": "bf24500e",
   "metadata": {},
   "outputs": [
    {
     "name": "stdout",
     "output_type": "stream",
     "text": [
      "STELLAR \"T\" INVESTMENTS  LLC Good Standing\n",
      "TP nail salon LLC Good Standing\n",
      "B&E LLC Good Standing\n"
     ]
    }
   ],
   "source": [
    "for entity in datajs:\n",
    "    print(entity['entityname'], entity['entitystatus'])"
   ]
  },
  {
   "cell_type": "code",
   "execution_count": null,
   "id": "93adc5da",
   "metadata": {},
   "outputs": [],
   "source": []
  }
 ],
 "metadata": {
  "kernelspec": {
   "display_name": "Python 3",
   "language": "python",
   "name": "python3"
  },
  "language_info": {
   "codemirror_mode": {
    "name": "ipython",
    "version": 3
   },
   "file_extension": ".py",
   "mimetype": "text/x-python",
   "name": "python",
   "nbconvert_exporter": "python",
   "pygments_lexer": "ipython3",
   "version": "3.8.8"
  }
 },
 "nbformat": 4,
 "nbformat_minor": 5
}
